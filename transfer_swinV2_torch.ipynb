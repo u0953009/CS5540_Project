{
 "cells": [
  {
   "cell_type": "code",
   "execution_count": 5,
   "id": "9d626a54-69ae-40b5-918b-7589f529fea6",
   "metadata": {},
   "outputs": [],
   "source": [
    "import torch\n",
    "import timm\n",
    "import numpy as np\n",
    "from transformers import AutoModelForImageClassification, AutoImageProcessor\n",
    "from torchsummary import summary\n",
    "import torch.nn as nn\n",
    "from torchvision import datasets, transforms\n",
    "from torch.utils.data import DataLoader\n",
    "from tqdm.notebook import tqdm\n",
    "import matplotlib.pyplot as plt"
   ]
  },
  {
   "cell_type": "code",
   "execution_count": 2,
   "id": "c20fcebc-3131-40d0-baff-d53e73620f18",
   "metadata": {},
   "outputs": [
    {
     "name": "stdout",
     "output_type": "stream",
     "text": [
      "2.5.0+cu118\n",
      "True\n",
      "90100\n"
     ]
    }
   ],
   "source": [
    "print(torch.__version__)\n",
    "print(torch.cuda.is_available())  # Should return True if CUDA is set up correctly\n",
    "print(torch.backends.cudnn.version())  # Should print cuDNN version (e.g., 8906 for 8.9.6)"
   ]
  },
  {
   "cell_type": "code",
   "execution_count": 13,
   "id": "7c89e045-6d9e-4c4f-a0c1-2ae884b1a41f",
   "metadata": {},
   "outputs": [],
   "source": [
    "# load the pre-trained Swin Transformer V2 model and modify the output layer\n",
    "model = timm.create_model('swinv2_base_window8_256', pretrained=True)\n",
    "model.head.fc = nn.Linear(1024, 4, bias=True)"
   ]
  },
  {
   "cell_type": "code",
   "execution_count": 14,
   "id": "ab0bc8c5-1dfe-413e-98af-5bcdcef4196d",
   "metadata": {
    "scrolled": true
   },
   "outputs": [],
   "source": [
    "# Freeze all layers except the final classification head\n",
    "for param in model.parameters():\n",
    "    param.requires_grad = True\n",
    "\n",
    "for name, param in model.named_parameters():\n",
    "    if 'head' not in name:\n",
    "        param.requires_grad=False"
   ]
  },
  {
   "cell_type": "code",
   "execution_count": 16,
   "id": "1219c0b4-7b84-4e61-b342-3b5bd80d5128",
   "metadata": {},
   "outputs": [],
   "source": [
    "# get the data\n",
    "transform = transforms.Compose([\n",
    "    transforms.Resize((256, 256)),\n",
    "    transforms.ToTensor(),\n",
    "    transforms.Normalize(mean=[0.485, 0.456, 0.406], std=[0.229, 0.224, 0.225])\n",
    "])\n",
    "\n",
    "# Train\n",
    "# Create the dataset from a folder containing images\n",
    "dataset = datasets.ImageFolder(root='../data/cropped_images/', transform=transform)\n",
    "\n",
    "# Create a DataLoader to load images in batches\n",
    "dataloader = DataLoader(dataset, batch_size=32, shuffle=True, num_workers=4)\n",
    "\n",
    "# Test\n",
    "# Create the dataset from a folder containing images\n",
    "dataset_test = datasets.ImageFolder(root='../data/cropped_images_test/', transform=transform)\n",
    "\n",
    "# Create a DataLoader to load images in batches\n",
    "dataloader_test = DataLoader(dataset_test, batch_size=32, shuffle=True, num_workers=4)\n"
   ]
  },
  {
   "cell_type": "code",
   "execution_count": 17,
   "id": "e57ce96b-1750-4f75-882c-7c6aca80ee0b",
   "metadata": {},
   "outputs": [
    {
     "name": "stdout",
     "output_type": "stream",
     "text": [
      "cuda\n"
     ]
    }
   ],
   "source": [
    "device = torch.device(\"cuda\" if torch.cuda.is_available() else \"cpu\")\n",
    "\n",
    "print(device)  # Will print 'cuda' if GPU is available, else 'cpu'\n",
    "\n",
    "model= model.to(device)"
   ]
  },
  {
   "cell_type": "code",
   "execution_count": 18,
   "id": "893ca436-854a-4e5b-9c86-dd5d884bf55d",
   "metadata": {},
   "outputs": [
    {
     "data": {
      "application/vnd.jupyter.widget-view+json": {
       "model_id": "e68ca0d0af9148518e0f8c4cc0cf3abf",
       "version_major": 2,
       "version_minor": 0
      },
      "text/plain": [
       "  0%|          | 0/179 [00:00<?, ?it/s]"
      ]
     },
     "metadata": {},
     "output_type": "display_data"
    },
    {
     "name": "stdout",
     "output_type": "stream",
     "text": [
      "epoch  0 \n",
      "Train loss : 1.0920144319534302  - Train accuracy: 0.5161612130885874\n",
      "Test Loss  1.0231614112854004  - Test Accuracy : 0.5355450236966824\n"
     ]
    },
    {
     "data": {
      "application/vnd.jupyter.widget-view+json": {
       "model_id": "590545df9d6f4d5dbd095d3325cc8b60",
       "version_major": 2,
       "version_minor": 0
      },
      "text/plain": [
       "  0%|          | 0/179 [00:00<?, ?it/s]"
      ]
     },
     "metadata": {},
     "output_type": "display_data"
    },
    {
     "name": "stdout",
     "output_type": "stream",
     "text": [
      "epoch  1 \n",
      "Train loss : 0.9785546660423279  - Train accuracy: 0.5769154030327215\n",
      "Test Loss  0.9672393798828125  - Test Accuracy : 0.5781990521327014\n"
     ]
    },
    {
     "data": {
      "application/vnd.jupyter.widget-view+json": {
       "model_id": "521a6f82eb5140f2aca5f6da077165a3",
       "version_major": 2,
       "version_minor": 0
      },
      "text/plain": [
       "  0%|          | 0/179 [00:00<?, ?it/s]"
      ]
     },
     "metadata": {},
     "output_type": "display_data"
    },
    {
     "name": "stdout",
     "output_type": "stream",
     "text": [
      "epoch  2 \n",
      "Train loss : 0.9348246455192566  - Train accuracy: 0.6013567438148444\n",
      "Test Loss  0.952968418598175  - Test Accuracy : 0.5908372827804107\n"
     ]
    },
    {
     "data": {
      "application/vnd.jupyter.widget-view+json": {
       "model_id": "3c4df7334e1d415c9d8df20b45624890",
       "version_major": 2,
       "version_minor": 0
      },
      "text/plain": [
       "  0%|          | 0/179 [00:00<?, ?it/s]"
      ]
     },
     "metadata": {},
     "output_type": "display_data"
    },
    {
     "name": "stdout",
     "output_type": "stream",
     "text": [
      "epoch  3 \n",
      "Train loss : 0.9065233469009399  - Train accuracy: 0.6179918196328811\n",
      "Test Loss  0.9323881268501282  - Test Accuracy : 0.593996840442338\n"
     ]
    },
    {
     "data": {
      "application/vnd.jupyter.widget-view+json": {
       "model_id": "afaa0fe2587c4cf49dfd5e3ec8b0ffe5",
       "version_major": 2,
       "version_minor": 0
      },
      "text/plain": [
       "  0%|          | 0/179 [00:00<?, ?it/s]"
      ]
     },
     "metadata": {},
     "output_type": "display_data"
    },
    {
     "name": "stdout",
     "output_type": "stream",
     "text": [
      "epoch  4 \n",
      "Train loss : 0.8806061148643494  - Train accuracy: 0.63268156424581\n",
      "Test Loss  0.9337124824523926  - Test Accuracy : 0.5987361769352291\n"
     ]
    },
    {
     "data": {
      "application/vnd.jupyter.widget-view+json": {
       "model_id": "1406f2bd40eb4795b6386f046e2d89ec",
       "version_major": 2,
       "version_minor": 0
      },
      "text/plain": [
       "  0%|          | 0/179 [00:00<?, ?it/s]"
      ]
     },
     "metadata": {},
     "output_type": "display_data"
    },
    {
     "name": "stdout",
     "output_type": "stream",
     "text": [
      "epoch  5 \n",
      "Train loss : 0.864097535610199  - Train accuracy: 0.639914205905826\n",
      "Test Loss  0.9192075729370117  - Test Accuracy : 0.608214849921011\n"
     ]
    },
    {
     "data": {
      "application/vnd.jupyter.widget-view+json": {
       "model_id": "4053804fc8c64239b73f50245f0c6de9",
       "version_major": 2,
       "version_minor": 0
      },
      "text/plain": [
       "  0%|          | 0/179 [00:00<?, ?it/s]"
      ]
     },
     "metadata": {},
     "output_type": "display_data"
    },
    {
     "name": "stdout",
     "output_type": "stream",
     "text": [
      "epoch  6 \n",
      "Train loss : 0.8494697213172913  - Train accuracy: 0.6470969672785315\n",
      "Test Loss  0.9106213450431824  - Test Accuracy : 0.6129541864139021\n"
     ]
    },
    {
     "data": {
      "application/vnd.jupyter.widget-view+json": {
       "model_id": "b6fbdad251d844eab0c6be3e0246ebfa",
       "version_major": 2,
       "version_minor": 0
      },
      "text/plain": [
       "  0%|          | 0/179 [00:00<?, ?it/s]"
      ]
     },
     "metadata": {},
     "output_type": "display_data"
    },
    {
     "name": "stdout",
     "output_type": "stream",
     "text": [
      "epoch  7 \n",
      "Train loss : 0.8327970504760742  - Train accuracy: 0.6581953312051078\n",
      "Test Loss  0.9309725165367126  - Test Accuracy : 0.6050552922590837\n"
     ]
    },
    {
     "data": {
      "application/vnd.jupyter.widget-view+json": {
       "model_id": "a4f87cd586514deab8a1b9180d83b587",
       "version_major": 2,
       "version_minor": 0
      },
      "text/plain": [
       "  0%|          | 0/179 [00:00<?, ?it/s]"
      ]
     },
     "metadata": {},
     "output_type": "display_data"
    },
    {
     "name": "stdout",
     "output_type": "stream",
     "text": [
      "epoch  8 \n",
      "Train loss : 0.821060061454773  - Train accuracy: 0.6684956105347167\n",
      "Test Loss  0.9300811886787415  - Test Accuracy : 0.6161137440758294\n"
     ]
    },
    {
     "data": {
      "application/vnd.jupyter.widget-view+json": {
       "model_id": "02817dc6b0b44ba38a1d9f0885f1d613",
       "version_major": 2,
       "version_minor": 0
      },
      "text/plain": [
       "  0%|          | 0/179 [00:00<?, ?it/s]"
      ]
     },
     "metadata": {},
     "output_type": "display_data"
    },
    {
     "name": "stdout",
     "output_type": "stream",
     "text": [
      "epoch  9 \n",
      "Train loss : 0.8102469444274902  - Train accuracy: 0.6730097765363129\n",
      "Test Loss  0.9150673747062683  - Test Accuracy : 0.6145339652448657\n"
     ]
    },
    {
     "data": {
      "application/vnd.jupyter.widget-view+json": {
       "model_id": "8a6d7f1c9ab248d0a28ab4c198beea5e",
       "version_major": 2,
       "version_minor": 0
      },
      "text/plain": [
       "  0%|          | 0/179 [00:00<?, ?it/s]"
      ]
     },
     "metadata": {},
     "output_type": "display_data"
    },
    {
     "name": "stdout",
     "output_type": "stream",
     "text": [
      "epoch  10 \n",
      "Train loss : 0.8027957081794739  - Train accuracy: 0.674007382282522\n",
      "Test Loss  0.9104061126708984  - Test Accuracy : 0.6255924170616114\n"
     ]
    },
    {
     "data": {
      "application/vnd.jupyter.widget-view+json": {
       "model_id": "3c49a9516eec4d94a9ccb7ed50a8bda8",
       "version_major": 2,
       "version_minor": 0
      },
      "text/plain": [
       "  0%|          | 0/179 [00:00<?, ?it/s]"
      ]
     },
     "metadata": {},
     "output_type": "display_data"
    },
    {
     "name": "stdout",
     "output_type": "stream",
     "text": [
      "epoch  11 \n",
      "Train loss : 0.79200279712677  - Train accuracy: 0.680591580207502\n",
      "Test Loss  0.9022216796875  - Test Accuracy : 0.6192733017377567\n"
     ]
    },
    {
     "data": {
      "application/vnd.jupyter.widget-view+json": {
       "model_id": "9c4c78d7acf84c1eba08c4f32ee5c322",
       "version_major": 2,
       "version_minor": 0
      },
      "text/plain": [
       "  0%|          | 0/179 [00:00<?, ?it/s]"
      ]
     },
     "metadata": {},
     "output_type": "display_data"
    },
    {
     "name": "stdout",
     "output_type": "stream",
     "text": [
      "epoch  12 \n",
      "Train loss : 0.783763587474823  - Train accuracy: 0.6896697924980049\n",
      "Test Loss  0.9067330360412598  - Test Accuracy : 0.608214849921011\n"
     ]
    },
    {
     "data": {
      "application/vnd.jupyter.widget-view+json": {
       "model_id": "74be3cce7640406b8cace78a0e07dd41",
       "version_major": 2,
       "version_minor": 0
      },
      "text/plain": [
       "  0%|          | 0/179 [00:00<?, ?it/s]"
      ]
     },
     "metadata": {},
     "output_type": "display_data"
    },
    {
     "name": "stdout",
     "output_type": "stream",
     "text": [
      "epoch  13 \n",
      "Train loss : 0.776930570602417  - Train accuracy: 0.6898194333599361\n",
      "Test Loss  0.9163915514945984  - Test Accuracy : 0.6145339652448657\n"
     ]
    },
    {
     "data": {
      "application/vnd.jupyter.widget-view+json": {
       "model_id": "b92993e4a6794d67bbdc23757cc9588a",
       "version_major": 2,
       "version_minor": 0
      },
      "text/plain": [
       "  0%|          | 0/179 [00:00<?, ?it/s]"
      ]
     },
     "metadata": {},
     "output_type": "display_data"
    },
    {
     "name": "stdout",
     "output_type": "stream",
     "text": [
      "epoch  14 \n",
      "Train loss : 0.7739455103874207  - Train accuracy: 0.6932112928970471\n",
      "Test Loss  0.9033600091934204  - Test Accuracy : 0.6287519747235387\n"
     ]
    },
    {
     "data": {
      "application/vnd.jupyter.widget-view+json": {
       "model_id": "3c109c50860141a8832528706a9ea4b6",
       "version_major": 2,
       "version_minor": 0
      },
      "text/plain": [
       "  0%|          | 0/179 [00:00<?, ?it/s]"
      ]
     },
     "metadata": {},
     "output_type": "display_data"
    },
    {
     "name": "stdout",
     "output_type": "stream",
     "text": [
      "epoch  15 \n",
      "Train loss : 0.764683723449707  - Train accuracy: 0.6991969273743017\n",
      "Test Loss  0.909575879573822  - Test Accuracy : 0.627172195892575\n"
     ]
    },
    {
     "data": {
      "application/vnd.jupyter.widget-view+json": {
       "model_id": "33c436dfb7e042a4a71649bfaa905cb0",
       "version_major": 2,
       "version_minor": 0
      },
      "text/plain": [
       "  0%|          | 0/179 [00:00<?, ?it/s]"
      ]
     },
     "metadata": {},
     "output_type": "display_data"
    },
    {
     "name": "stdout",
     "output_type": "stream",
     "text": [
      "epoch  16 \n",
      "Train loss : 0.7582386136054993  - Train accuracy: 0.696054469273743\n",
      "Test Loss  0.8885087370872498  - Test Accuracy : 0.6334913112164297\n"
     ]
    },
    {
     "data": {
      "application/vnd.jupyter.widget-view+json": {
       "model_id": "357960a694964533a48de73b896db2b3",
       "version_major": 2,
       "version_minor": 0
      },
      "text/plain": [
       "  0%|          | 0/179 [00:00<?, ?it/s]"
      ]
     },
     "metadata": {},
     "output_type": "display_data"
    },
    {
     "name": "stdout",
     "output_type": "stream",
     "text": [
      "epoch  17 \n",
      "Train loss : 0.7502761483192444  - Train accuracy: 0.7045590582601756\n",
      "Test Loss  0.8799015283584595  - Test Accuracy : 0.6398104265402843\n"
     ]
    },
    {
     "data": {
      "application/vnd.jupyter.widget-view+json": {
       "model_id": "55d6e62622634e14b731087e01373480",
       "version_major": 2,
       "version_minor": 0
      },
      "text/plain": [
       "  0%|          | 0/179 [00:00<?, ?it/s]"
      ]
     },
     "metadata": {},
     "output_type": "display_data"
    },
    {
     "name": "stdout",
     "output_type": "stream",
     "text": [
      "epoch  18 \n",
      "Train loss : 0.7435743808746338  - Train accuracy: 0.699670790103751\n",
      "Test Loss  0.9052435755729675  - Test Accuracy : 0.641390205371248\n"
     ]
    },
    {
     "data": {
      "application/vnd.jupyter.widget-view+json": {
       "model_id": "546d766341a44c5aad04b71f186d08a6",
       "version_major": 2,
       "version_minor": 0
      },
      "text/plain": [
       "  0%|          | 0/179 [00:00<?, ?it/s]"
      ]
     },
     "metadata": {},
     "output_type": "display_data"
    },
    {
     "name": "stdout",
     "output_type": "stream",
     "text": [
      "epoch  19 \n",
      "Train loss : 0.7440584897994995  - Train accuracy: 0.7010674381484437\n",
      "Test Loss  0.890194833278656  - Test Accuracy : 0.6334913112164297\n"
     ]
    },
    {
     "data": {
      "application/vnd.jupyter.widget-view+json": {
       "model_id": "409cf1a9d7274ed78b9f5f7fd1117335",
       "version_major": 2,
       "version_minor": 0
      },
      "text/plain": [
       "  0%|          | 0/179 [00:00<?, ?it/s]"
      ]
     },
     "metadata": {},
     "output_type": "display_data"
    },
    {
     "name": "stdout",
     "output_type": "stream",
     "text": [
      "epoch  20 \n",
      "Train loss : 0.7377319931983948  - Train accuracy: 0.7070780127693536\n",
      "Test Loss  0.8904142379760742  - Test Accuracy : 0.627172195892575\n"
     ]
    },
    {
     "data": {
      "application/vnd.jupyter.widget-view+json": {
       "model_id": "9effb97b3be5452fbaaa8bdc6d820bc2",
       "version_major": 2,
       "version_minor": 0
      },
      "text/plain": [
       "  0%|          | 0/179 [00:00<?, ?it/s]"
      ]
     },
     "metadata": {},
     "output_type": "display_data"
    },
    {
     "name": "stdout",
     "output_type": "stream",
     "text": [
      "epoch  21 \n",
      "Train loss : 0.7317304611206055  - Train accuracy: 0.7086991221069434\n",
      "Test Loss  0.8981882929801941  - Test Accuracy : 0.6429699842022117\n"
     ]
    },
    {
     "data": {
      "application/vnd.jupyter.widget-view+json": {
       "model_id": "ad9a61ef08974b309d3db03e27067630",
       "version_major": 2,
       "version_minor": 0
      },
      "text/plain": [
       "  0%|          | 0/179 [00:00<?, ?it/s]"
      ]
     },
     "metadata": {},
     "output_type": "display_data"
    },
    {
     "name": "stdout",
     "output_type": "stream",
     "text": [
      "epoch  22 \n",
      "Train loss : 0.7275519371032715  - Train accuracy: 0.7122655626496408\n",
      "Test Loss  0.8999085426330566  - Test Accuracy : 0.6350710900473934\n"
     ]
    },
    {
     "data": {
      "application/vnd.jupyter.widget-view+json": {
       "model_id": "7735392b663442f59f1805cf6d5a6cf3",
       "version_major": 2,
       "version_minor": 0
      },
      "text/plain": [
       "  0%|          | 0/179 [00:00<?, ?it/s]"
      ]
     },
     "metadata": {},
     "output_type": "display_data"
    },
    {
     "name": "stdout",
     "output_type": "stream",
     "text": [
      "epoch  23 \n",
      "Train loss : 0.7270315885543823  - Train accuracy: 0.7143355945730248\n",
      "Test Loss  0.8839103579521179  - Test Accuracy : 0.636650868878357\n"
     ]
    },
    {
     "data": {
      "application/vnd.jupyter.widget-view+json": {
       "model_id": "669ff0b9e16941c1815f104c43ebd13f",
       "version_major": 2,
       "version_minor": 0
      },
      "text/plain": [
       "  0%|          | 0/179 [00:00<?, ?it/s]"
      ]
     },
     "metadata": {},
     "output_type": "display_data"
    },
    {
     "name": "stdout",
     "output_type": "stream",
     "text": [
      "epoch  24 \n",
      "Train loss : 0.7204033732414246  - Train accuracy: 0.7162559856344772\n",
      "Test Loss  0.8882727026939392  - Test Accuracy : 0.6429699842022117\n"
     ]
    },
    {
     "data": {
      "application/vnd.jupyter.widget-view+json": {
       "model_id": "7bf30916319c480a9fae3277e81142fb",
       "version_major": 2,
       "version_minor": 0
      },
      "text/plain": [
       "  0%|          | 0/179 [00:00<?, ?it/s]"
      ]
     },
     "metadata": {},
     "output_type": "display_data"
    },
    {
     "name": "stdout",
     "output_type": "stream",
     "text": [
      "epoch  25 \n",
      "Train loss : 0.7142801284790039  - Train accuracy: 0.7166051476456504\n",
      "Test Loss  0.9095827341079712  - Test Accuracy : 0.6240126382306477\n"
     ]
    },
    {
     "data": {
      "application/vnd.jupyter.widget-view+json": {
       "model_id": "0580083f4df6442a98b4c71288804001",
       "version_major": 2,
       "version_minor": 0
      },
      "text/plain": [
       "  0%|          | 0/179 [00:00<?, ?it/s]"
      ]
     },
     "metadata": {},
     "output_type": "display_data"
    },
    {
     "name": "stdout",
     "output_type": "stream",
     "text": [
      "epoch  26 \n",
      "Train loss : 0.7126774191856384  - Train accuracy: 0.7152833200319233\n",
      "Test Loss  0.89080411195755  - Test Accuracy : 0.641390205371248\n"
     ]
    },
    {
     "data": {
      "application/vnd.jupyter.widget-view+json": {
       "model_id": "804cd1a305274e73b5251863c4e0f4c3",
       "version_major": 2,
       "version_minor": 0
      },
      "text/plain": [
       "  0%|          | 0/179 [00:00<?, ?it/s]"
      ]
     },
     "metadata": {},
     "output_type": "display_data"
    },
    {
     "name": "stdout",
     "output_type": "stream",
     "text": [
      "epoch  27 \n",
      "Train loss : 0.7088172435760498  - Train accuracy: 0.7196229050279329\n",
      "Test Loss  0.8844024538993835  - Test Accuracy : 0.641390205371248\n"
     ]
    },
    {
     "data": {
      "application/vnd.jupyter.widget-view+json": {
       "model_id": "883e8f4dc9044d9d9f4ff389999b9a89",
       "version_major": 2,
       "version_minor": 0
      },
      "text/plain": [
       "  0%|          | 0/179 [00:00<?, ?it/s]"
      ]
     },
     "metadata": {},
     "output_type": "display_data"
    },
    {
     "name": "stdout",
     "output_type": "stream",
     "text": [
      "epoch  28 \n",
      "Train loss : 0.7073160409927368  - Train accuracy: 0.7236632083000798\n",
      "Test Loss  0.8893996477127075  - Test Accuracy : 0.6398104265402843\n"
     ]
    },
    {
     "data": {
      "application/vnd.jupyter.widget-view+json": {
       "model_id": "381b39aa8921440dbc04277e960dd784",
       "version_major": 2,
       "version_minor": 0
      },
      "text/plain": [
       "  0%|          | 0/179 [00:00<?, ?it/s]"
      ]
     },
     "metadata": {},
     "output_type": "display_data"
    },
    {
     "name": "stdout",
     "output_type": "stream",
     "text": [
      "epoch  29 \n",
      "Train loss : 0.7022392153739929  - Train accuracy: 0.7201965283320032\n",
      "Test Loss  0.8967226147651672  - Test Accuracy : 0.6398104265402843\n"
     ]
    },
    {
     "data": {
      "application/vnd.jupyter.widget-view+json": {
       "model_id": "d949b42ffbd14d2a81cf5c00d38cc2f1",
       "version_major": 2,
       "version_minor": 0
      },
      "text/plain": [
       "  0%|          | 0/179 [00:00<?, ?it/s]"
      ]
     },
     "metadata": {},
     "output_type": "display_data"
    },
    {
     "name": "stdout",
     "output_type": "stream",
     "text": [
      "epoch  30 \n",
      "Train loss : 0.6965904831886292  - Train accuracy: 0.7295989624900239\n",
      "Test Loss  0.8888694643974304  - Test Accuracy : 0.655608214849921\n"
     ]
    },
    {
     "data": {
      "application/vnd.jupyter.widget-view+json": {
       "model_id": "7fd670d8786a4d1fbd8758789f90f28d",
       "version_major": 2,
       "version_minor": 0
      },
      "text/plain": [
       "  0%|          | 0/179 [00:00<?, ?it/s]"
      ]
     },
     "metadata": {},
     "output_type": "display_data"
    },
    {
     "name": "stdout",
     "output_type": "stream",
     "text": [
      "epoch  31 \n",
      "Train loss : 0.6956024169921875  - Train accuracy: 0.7230895849960096\n",
      "Test Loss  0.8714194297790527  - Test Accuracy : 0.65086887835703\n"
     ]
    },
    {
     "data": {
      "application/vnd.jupyter.widget-view+json": {
       "model_id": "bde5641dc5f74c14a73fa4275066de92",
       "version_major": 2,
       "version_minor": 0
      },
      "text/plain": [
       "  0%|          | 0/179 [00:00<?, ?it/s]"
      ]
     },
     "metadata": {},
     "output_type": "display_data"
    },
    {
     "name": "stdout",
     "output_type": "stream",
     "text": [
      "epoch  32 \n",
      "Train loss : 0.6994777917861938  - Train accuracy: 0.7259078212290503\n",
      "Test Loss  0.8935320973396301  - Test Accuracy : 0.6492890995260664\n"
     ]
    },
    {
     "data": {
      "application/vnd.jupyter.widget-view+json": {
       "model_id": "988d023dedda41bd8d41ee9c45721be5",
       "version_major": 2,
       "version_minor": 0
      },
      "text/plain": [
       "  0%|          | 0/179 [00:00<?, ?it/s]"
      ]
     },
     "metadata": {},
     "output_type": "display_data"
    },
    {
     "name": "stdout",
     "output_type": "stream",
     "text": [
      "epoch  33 \n",
      "Train loss : 0.6882726550102234  - Train accuracy: 0.7274291699920191\n",
      "Test Loss  0.9172849655151367  - Test Accuracy : 0.6287519747235387\n"
     ]
    },
    {
     "data": {
      "application/vnd.jupyter.widget-view+json": {
       "model_id": "4d71b5a056b84e13a0921081a1826648",
       "version_major": 2,
       "version_minor": 0
      },
      "text/plain": [
       "  0%|          | 0/179 [00:00<?, ?it/s]"
      ]
     },
     "metadata": {},
     "output_type": "display_data"
    },
    {
     "name": "stdout",
     "output_type": "stream",
     "text": [
      "epoch  34 \n",
      "Train loss : 0.6909657716751099  - Train accuracy: 0.7245610534716681\n",
      "Test Loss  0.9028390049934387  - Test Accuracy : 0.65086887835703\n"
     ]
    },
    {
     "data": {
      "application/vnd.jupyter.widget-view+json": {
       "model_id": "6e6a5da8ea1e491381b1c60ad89a18e0",
       "version_major": 2,
       "version_minor": 0
      },
      "text/plain": [
       "  0%|          | 0/179 [00:00<?, ?it/s]"
      ]
     },
     "metadata": {},
     "output_type": "display_data"
    },
    {
     "name": "stdout",
     "output_type": "stream",
     "text": [
      "epoch  35 \n",
      "Train loss : 0.6899215579032898  - Train accuracy: 0.7251346767757382\n",
      "Test Loss  0.8878456950187683  - Test Accuracy : 0.6492890995260664\n"
     ]
    },
    {
     "data": {
      "application/vnd.jupyter.widget-view+json": {
       "model_id": "0ef8d388f6f84c42b7250b0430c34f5f",
       "version_major": 2,
       "version_minor": 0
      },
      "text/plain": [
       "  0%|          | 0/179 [00:00<?, ?it/s]"
      ]
     },
     "metadata": {},
     "output_type": "display_data"
    },
    {
     "name": "stdout",
     "output_type": "stream",
     "text": [
      "epoch  36 \n",
      "Train loss : 0.6802659630775452  - Train accuracy: 0.7345121707901038\n",
      "Test Loss  0.8810990452766418  - Test Accuracy : 0.6587677725118484\n"
     ]
    },
    {
     "data": {
      "application/vnd.jupyter.widget-view+json": {
       "model_id": "24c47cc20e834156839fb3bb92cdd2a5",
       "version_major": 2,
       "version_minor": 0
      },
      "text/plain": [
       "  0%|          | 0/179 [00:00<?, ?it/s]"
      ]
     },
     "metadata": {},
     "output_type": "display_data"
    },
    {
     "name": "stdout",
     "output_type": "stream",
     "text": [
      "epoch  37 \n",
      "Train loss : 0.6788359880447388  - Train accuracy: 0.7322675578611333\n",
      "Test Loss  0.8892593383789062  - Test Accuracy : 0.6429699842022117\n"
     ]
    },
    {
     "data": {
      "application/vnd.jupyter.widget-view+json": {
       "model_id": "2a5961f03c4c4d6b8f794712b035b019",
       "version_major": 2,
       "version_minor": 0
      },
      "text/plain": [
       "  0%|          | 0/179 [00:00<?, ?it/s]"
      ]
     },
     "metadata": {},
     "output_type": "display_data"
    },
    {
     "name": "stdout",
     "output_type": "stream",
     "text": [
      "epoch  38 \n",
      "Train loss : 0.6786144971847534  - Train accuracy: 0.7353102553870711\n",
      "Test Loss  0.895765483379364  - Test Accuracy : 0.641390205371248\n"
     ]
    },
    {
     "data": {
      "application/vnd.jupyter.widget-view+json": {
       "model_id": "d3aba59efe4d4f67872c2ef8fc43d5c5",
       "version_major": 2,
       "version_minor": 0
      },
      "text/plain": [
       "  0%|          | 0/179 [00:00<?, ?it/s]"
      ]
     },
     "metadata": {},
     "output_type": "display_data"
    },
    {
     "name": "stdout",
     "output_type": "stream",
     "text": [
      "epoch  39 \n",
      "Train loss : 0.6773146390914917  - Train accuracy: 0.7312948922585795\n",
      "Test Loss  0.9072079658508301  - Test Accuracy : 0.6477093206951027\n"
     ]
    },
    {
     "data": {
      "application/vnd.jupyter.widget-view+json": {
       "model_id": "3d48fec5c2674333a0500c24df928725",
       "version_major": 2,
       "version_minor": 0
      },
      "text/plain": [
       "  0%|          | 0/179 [00:00<?, ?it/s]"
      ]
     },
     "metadata": {},
     "output_type": "display_data"
    },
    {
     "name": "stdout",
     "output_type": "stream",
     "text": [
      "epoch  40 \n",
      "Train loss : 0.6709825396537781  - Train accuracy: 0.736731843575419\n",
      "Test Loss  0.8936082124710083  - Test Accuracy : 0.6477093206951027\n"
     ]
    },
    {
     "data": {
      "application/vnd.jupyter.widget-view+json": {
       "model_id": "9664779539714db89685dc56b0d7a564",
       "version_major": 2,
       "version_minor": 0
      },
      "text/plain": [
       "  0%|          | 0/179 [00:00<?, ?it/s]"
      ]
     },
     "metadata": {},
     "output_type": "display_data"
    },
    {
     "name": "stdout",
     "output_type": "stream",
     "text": [
      "epoch  41 \n",
      "Train loss : 0.6721505522727966  - Train accuracy: 0.7334397446129289\n",
      "Test Loss  0.8815178275108337  - Test Accuracy : 0.65086887835703\n"
     ]
    },
    {
     "data": {
      "application/vnd.jupyter.widget-view+json": {
       "model_id": "440a6670bdd44b8d83dc49d5fa7737dc",
       "version_major": 2,
       "version_minor": 0
      },
      "text/plain": [
       "  0%|          | 0/179 [00:00<?, ?it/s]"
      ]
     },
     "metadata": {},
     "output_type": "display_data"
    },
    {
     "name": "stdout",
     "output_type": "stream",
     "text": [
      "epoch  42 \n",
      "Train loss : 0.6685985326766968  - Train accuracy: 0.7403731045490822\n",
      "Test Loss  0.8879038095474243  - Test Accuracy : 0.6571879936808847\n"
     ]
    },
    {
     "data": {
      "application/vnd.jupyter.widget-view+json": {
       "model_id": "56451bf86dd9462591e34b71549e17a2",
       "version_major": 2,
       "version_minor": 0
      },
      "text/plain": [
       "  0%|          | 0/179 [00:00<?, ?it/s]"
      ]
     },
     "metadata": {},
     "output_type": "display_data"
    },
    {
     "name": "stdout",
     "output_type": "stream",
     "text": [
      "epoch  43 \n",
      "Train loss : 0.6688219904899597  - Train accuracy: 0.7344622905027933\n",
      "Test Loss  0.8967912793159485  - Test Accuracy : 0.641390205371248\n"
     ]
    },
    {
     "data": {
      "application/vnd.jupyter.widget-view+json": {
       "model_id": "d59e142c94504290af8a09c0c95410b0",
       "version_major": 2,
       "version_minor": 0
      },
      "text/plain": [
       "  0%|          | 0/179 [00:00<?, ?it/s]"
      ]
     },
     "metadata": {},
     "output_type": "display_data"
    },
    {
     "name": "stdout",
     "output_type": "stream",
     "text": [
      "epoch  44 \n",
      "Train loss : 0.6652624011039734  - Train accuracy: 0.7371059457302473\n",
      "Test Loss  0.8869683146476746  - Test Accuracy : 0.6461295418641391\n"
     ]
    },
    {
     "data": {
      "application/vnd.jupyter.widget-view+json": {
       "model_id": "657e480bc3324cf69f1994cf4184a52d",
       "version_major": 2,
       "version_minor": 0
      },
      "text/plain": [
       "  0%|          | 0/179 [00:00<?, ?it/s]"
      ]
     },
     "metadata": {},
     "output_type": "display_data"
    },
    {
     "name": "stdout",
     "output_type": "stream",
     "text": [
      "epoch  45 \n",
      "Train loss : 0.659450352191925  - Train accuracy: 0.7411961292897047\n",
      "Test Loss  0.888430118560791  - Test Accuracy : 0.65086887835703\n"
     ]
    },
    {
     "data": {
      "application/vnd.jupyter.widget-view+json": {
       "model_id": "3a6ebf8744384a30bd310896b23bad91",
       "version_major": 2,
       "version_minor": 0
      },
      "text/plain": [
       "  0%|          | 0/179 [00:00<?, ?it/s]"
      ]
     },
     "metadata": {},
     "output_type": "display_data"
    },
    {
     "name": "stdout",
     "output_type": "stream",
     "text": [
      "epoch  46 \n",
      "Train loss : 0.6634718775749207  - Train accuracy: 0.739375498802873\n",
      "Test Loss  0.8937387466430664  - Test Accuracy : 0.6445497630331753\n"
     ]
    },
    {
     "data": {
      "application/vnd.jupyter.widget-view+json": {
       "model_id": "6ad1c72a02454f4daa1cec8099953b47",
       "version_major": 2,
       "version_minor": 0
      },
      "text/plain": [
       "  0%|          | 0/179 [00:00<?, ?it/s]"
      ]
     },
     "metadata": {},
     "output_type": "display_data"
    },
    {
     "name": "stdout",
     "output_type": "stream",
     "text": [
      "epoch  47 \n",
      "Train loss : 0.6566397547721863  - Train accuracy: 0.7443884676775738\n",
      "Test Loss  0.8928661346435547  - Test Accuracy : 0.6477093206951027\n"
     ]
    },
    {
     "data": {
      "application/vnd.jupyter.widget-view+json": {
       "model_id": "588b5e97f5a4412a9026aabeec4d25a9",
       "version_major": 2,
       "version_minor": 0
      },
      "text/plain": [
       "  0%|          | 0/179 [00:00<?, ?it/s]"
      ]
     },
     "metadata": {},
     "output_type": "display_data"
    },
    {
     "name": "stdout",
     "output_type": "stream",
     "text": [
      "epoch  48 \n",
      "Train loss : 0.6565020680427551  - Train accuracy: 0.738702114924182\n",
      "Test Loss  0.8951844573020935  - Test Accuracy : 0.660347551342812\n"
     ]
    },
    {
     "data": {
      "application/vnd.jupyter.widget-view+json": {
       "model_id": "a38dff23d17f410db133b94f4a84ab61",
       "version_major": 2,
       "version_minor": 0
      },
      "text/plain": [
       "  0%|          | 0/179 [00:00<?, ?it/s]"
      ]
     },
     "metadata": {},
     "output_type": "display_data"
    },
    {
     "name": "stdout",
     "output_type": "stream",
     "text": [
      "epoch  49 \n",
      "Train loss : 0.6538386940956116  - Train accuracy: 0.7468326017557861\n",
      "Test Loss  0.9083933234214783  - Test Accuracy : 0.6540284360189573\n"
     ]
    }
   ],
   "source": [
    "# Define the optimizer and loss function, focusing only on the parameters of the head\n",
    "optimizer = torch.optim.Adam(model.head.parameters(), lr=0.001)\n",
    "criterion = nn.CrossEntropyLoss()\n",
    "\n",
    "num_epochs=50\n",
    "\n",
    "train_result=[]\n",
    "test_result=[]\n",
    "test_accuracy=[]\n",
    "# Training loop\n",
    "for epoch in range(num_epochs):\n",
    "\n",
    "    train_loss, train_accuracy=0, 0\n",
    "    count=0\n",
    "    for images, labels in tqdm(dataloader):\n",
    "        count+=1\n",
    "        x, y = images.to(device), labels.to(device)\n",
    "\n",
    "        # Forward pass\n",
    "        outputs = model(x)\n",
    "        \n",
    "\n",
    "        loss = criterion(outputs, y)\n",
    "        _, predicted = torch.max(outputs.data, 1)\n",
    "        #print(predicted)\n",
    "        #print(y)\n",
    "        #print('train ', epoch , ' loss and accuracy', loss, (predicted==y).sum().item()/predicted.size(0))\n",
    "        #training_result[epoch].append([loss, predicted==y])\n",
    "        train_loss += loss\n",
    "        train_accuracy += (predicted==y).sum().item()/predicted.size(0)\n",
    "        # Backward pass and optimization\n",
    "        optimizer.zero_grad()\n",
    "        loss.backward()\n",
    "        optimizer.step()\n",
    "    train_loss /= count\n",
    "    train_accuracy /= count\n",
    "    print('epoch ', epoch, '\\nTrain loss :', train_loss.item(), ' - Train accuracy:', train_accuracy)\n",
    "    train_result.append([train_loss, train_accuracy])\n",
    "    # Assuming 'test_loader' is your DataLoader for the test dataset\n",
    "    correct = 0\n",
    "    total = 0\n",
    "    \n",
    "    # Put model in evaluation mode\n",
    "    model.eval()\n",
    "\n",
    "    #test_result.append([])\n",
    "\n",
    "    test_loss=0\n",
    "    test_count=0\n",
    "    # Disable gradient computation\n",
    "    with torch.no_grad():\n",
    "        for images, labels in dataloader_test:\n",
    "            test_count+=1\n",
    "            x, y = images.to(device), labels.to(device)  # Move data to GPU if available\n",
    "    \n",
    "            # Forward pass\n",
    "            outputs = model(x)\n",
    "            _, predicted = torch.max(outputs.data, 1)  # Get the predicted class with highest score\n",
    "\n",
    "            test_loss+= criterion(outputs, y)\n",
    "            #test_result[epoch].append([criterion(outputs, y) , predicted==y])\n",
    "            # Count the correct predictions\n",
    "            total += y.size(0)\n",
    "            correct += (predicted == y).sum().item()\n",
    "    \n",
    "    # Calculate accuracy\n",
    "    #accuracy = 100 * correct / total\n",
    "    accuracy =  correct / total\n",
    "    test_result.append([test_loss/test_count, accuracy])\n",
    "    test_accuracy.append(accuracy)\n",
    "    print('Test Loss ', (test_loss/test_count).item(), ' - Test Accuracy :', accuracy)\n",
    "    #print(f'Test Accuracy: {accuracy:.2f}%')"
   ]
  },
  {
   "cell_type": "code",
   "execution_count": 22,
   "id": "78eb4789-c551-46fe-8fe6-03e08392bb43",
   "metadata": {},
   "outputs": [],
   "source": [
    "# get the result and plot\n",
    "train_result_save=[]\n",
    "for i in range(len(train_result)):\n",
    "    aa=train_result[i]\n",
    "    train_result_save.append( [aa[0].item(), aa[1]] )\n",
    "\n",
    "test_result_save=[]\n",
    "for i in range(len(test_result)):\n",
    "    bb=test_result[i]\n",
    "    test_result_save.append( [bb[0].item(), bb[1]] )"
   ]
  },
  {
   "cell_type": "code",
   "execution_count": 25,
   "id": "1b06c7b3-dc34-4a72-8fe9-5808f13696d2",
   "metadata": {},
   "outputs": [],
   "source": [
    "np.save('train_result', train_result_save)\n",
    "np.save('test_result', test_result_save)"
   ]
  },
  {
   "cell_type": "code",
   "execution_count": 31,
   "id": "7f14b7d1-925b-49bf-93b3-d9037177b12a",
   "metadata": {},
   "outputs": [],
   "source": [
    "torch.save(model, 'torch_vit_model')"
   ]
  },
  {
   "cell_type": "code",
   "execution_count": 13,
   "id": "c2b926c2-497b-46a5-ba35-245f9945cd9f",
   "metadata": {},
   "outputs": [
    {
     "data": {
      "image/png": "[encoded data removed]",
      "text/plain": [
       "<Figure size 640x480 with 1 Axes>"
      ]
     },
     "metadata": {},
     "output_type": "display_data"
    }
   ],
   "source": [
    "epochs = np.arange(50)\n",
    "\n",
    "# accuracy plot\n",
    "plt.plot(epochs, train_txt[:,1])\n",
    "plt.plot(epochs, test_txt[:,1])\n",
    "plt.legend(['Training Accuracy', 'Test Accuracy'])\n",
    "plt.xlabel('Epoch')\n",
    "plt.ylabel('Accuracy')\n",
    "plt.title('Accuracy')\n",
    "plt.show()"
   ]
  },
  {
   "cell_type": "code",
   "execution_count": 14,
   "id": "5e24fe13-8109-4521-9cb0-944728b3d8b3",
   "metadata": {},
   "outputs": [
    {
     "data": {
      "image/png": "[encoded data removed]",
      "text/plain": [
       "<Figure size 640x480 with 1 Axes>"
      ]
     },
     "metadata": {},
     "output_type": "display_data"
    }
   ],
   "source": [
    "# loss plot\n",
    "plt.plot(epochs, train_txt[:,0])\n",
    "plt.plot(epochs, test_txt[:,0])\n",
    "plt.legend(['Training Loss', 'Test Loss'])\n",
    "plt.xlabel('Epoch')\n",
    "plt.ylabel('Loss')\n",
    "plt.title('Loss')\n",
    "plt.show()"
   ]
  },
  {
   "cell_type": "code",
   "execution_count": null,
   "id": "d45d7b2a-ed34-4a2a-840b-e2e9964daec6",
   "metadata": {},
   "outputs": [],
   "source": []
  }
 ],
 "metadata": {
  "kernelspec": {
   "display_name": "Python 3 (ipykernel)",
   "language": "python",
   "name": "python3"
  },
  "language_info": {
   "codemirror_mode": {
    "name": "ipython",
    "version": 3
   },
   "file_extension": ".py",
   "mimetype": "text/x-python",
   "name": "python",
   "nbconvert_exporter": "python",
   "pygments_lexer": "ipython3",
   "version": "3.12.0"
  }
 },
 "nbformat": 4,
 "nbformat_minor": 5
}
