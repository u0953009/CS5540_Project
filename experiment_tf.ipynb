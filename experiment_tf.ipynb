{
  "nbformat": 4,
  "nbformat_minor": 0,
  "metadata": {
    "colab": {
      "provenance": [],
      "machine_shape": "hm"
    },
    "kernelspec": {
      "name": "python3",
      "display_name": "Python 3"
    },
    "language_info": {
      "name": "python"
    }
  },
  "cells": [
    {
      "cell_type": "code",
      "execution_count": 1,
      "metadata": {
        "id": "Jy76kJsVVdVo"
      },
      "outputs": [],
      "source": [
        "import os\n",
        "import random\n",
        "import shutil"
      ]
    },
    {
      "cell_type": "code",
      "source": [
        "!mkdir data # make a folder for data"
      ],
      "metadata": {
        "id": "8Co3tkczeWsc"
      },
      "execution_count": 2,
      "outputs": []
    },
    {
      "cell_type": "code",
      "source": [
        "# download and unzip augmented images (only containing augmented images)\n",
        "!gdown \"https://drive.google.com/uc?id=1ppu097m-uk8zo_dyHLpGfD25cx4Qs9qk\"\n",
        "!mv augmented_images_2.zip data/augmented_images_2.zip\n",
        "!unzip -qq data/augmented_images_2.zip -d data/"
      ],
      "metadata": {
        "id": "q7y739cvSUkg",
        "colab": {
          "base_uri": "https://localhost:8080/"
        },
        "outputId": "e5820402-4d45-4bb9-86fd-728394cb3f74"
      },
      "execution_count": 3,
      "outputs": [
        {
          "output_type": "stream",
          "name": "stdout",
          "text": [
            "Downloading...\n",
            "From (original): https://drive.google.com/uc?id=1ppu097m-uk8zo_dyHLpGfD25cx4Qs9qk\n",
            "From (redirected): https://drive.google.com/uc?id=1ppu097m-uk8zo_dyHLpGfD25cx4Qs9qk&confirm=t&uuid=d65645c8-aa6a-42cd-8d0d-1ee99f69a5c3\n",
            "To: /content/augmented_images_2.zip\n",
            "100% 4.48G/4.48G [00:55<00:00, 80.2MB/s]\n"
          ]
        }
      ]
    },
    {
      "cell_type": "code",
      "source": [
        "# download and unzip balanced images (only containing original images)\n",
        "!gdown \"https://drive.google.com/uc?id=1KSuRlc6vwBdqu47YTGZEzttf6XgUjIMC\"\n",
        "!mv cropped_images.zip data/cropped_images.zip\n",
        "!unzip -qq data/cropped_images.zip -d data/"
      ],
      "metadata": {
        "id": "w1rDoHKNVkEt"
      },
      "execution_count": 9,
      "outputs": []
    },
    {
      "cell_type": "code",
      "source": [
        "# download and unzip initial training and testing images (not balanced and not augmented)\n",
        "!gdown \"https://drive.google.com/uc?id=1vawS94rtmFBgxubs5uBIW-3RIB22Fnl1\" -O initial_data.zip\n",
        "!mv initial_data.zip data/initial_data.zip\n",
        "!unzip -qq data/initial_data.zip -d data/"
      ],
      "metadata": {
        "id": "Vfmu_tSwWdm4"
      },
      "execution_count": 26,
      "outputs": []
    },
    {
      "cell_type": "code",
      "source": [
        "# from augmented images pick randomly some images for training and validating\n",
        "!mkdir data/augmented_train/\n",
        "!mkdir data/augmented_train/1\n",
        "!mkdir data/augmented_train/10\n",
        "!mkdir data/augmented_train/50\n",
        "!mkdir data/augmented_train/100\n",
        "!mkdir data/augmented_test/\n",
        "!mkdir data/augmented_test/1\n",
        "!mkdir data/augmented_test/10\n",
        "!mkdir data/augmented_test/50\n",
        "!mkdir data/augmented_test/100\n",
        "\n",
        "data_path='data/'\n",
        "source_path = data_path+'cropped_images/'\n",
        "source_list=os.listdir(source_path)\n",
        "\n",
        "source_augmented_path = data_path+'augmented_images_2/'\n",
        "\n",
        "for class_idx in range(len(source_list)):\n",
        "\n",
        "  class_path =  source_path+ str(source_list[class_idx])+'/'\n",
        "  source_augmented_path = data_path+'augmented_images_2/'+str(source_list[class_idx])+'/'\n",
        "  target_train_path = data_path+'augmented_train/'+str(source_list[class_idx])+'/'\n",
        "  target_test_path = data_path+'augmented_test/'+str(source_list[class_idx])+'/'\n",
        "\n",
        "  # 1200 per class\n",
        "  file_list = os.listdir(class_path)\n",
        "\n",
        "  random.shuffle(file_list)\n",
        "  train_list = file_list[:-50]\n",
        "  test_list = file_list[-50:]\n",
        "\n",
        "\n",
        "  train_augmented_list=[]\n",
        "  #get the augmented file name for training\n",
        "  for image_name in train_list:\n",
        "    for aug_idx in range(10):\n",
        "      train_augmented_list.append(image_name+'_aug_'+str(aug_idx)+'.jpeg')\n",
        "\n",
        "\n",
        "\n",
        "  for train_image in train_list:\n",
        "    orig_image_path = class_path+train_image\n",
        "\n",
        "    shutil.copy(orig_image_path, target_train_path+train_image )\n",
        "\n",
        "    for aug_idx in range(10):\n",
        "      augmented_file_name = train_image+'_aug_'+str(aug_idx)+'.jpeg'\n",
        "      shutil.copy(source_augmented_path+augmented_file_name, target_train_path+augmented_file_name)\n",
        "      #copy_list_this_turn.append(train_image+'_aug_'+str(aug_idx)+'.jpeg')\n",
        "\n",
        "  for test_image in test_list:\n",
        "    orig_image_path = class_path+test_image\n",
        "    shutil.copy(orig_image_path, target_test_path+test_image)\n",
        "\n",
        "\n",
        "\n",
        "\n",
        "\n"
      ],
      "metadata": {
        "id": "Nr5UCHuaFvsb"
      },
      "execution_count": 13,
      "outputs": []
    },
    {
      "cell_type": "code",
      "source": [],
      "metadata": {
        "id": "WvNs9FZle4pr"
      },
      "execution_count": null,
      "outputs": []
    },
    {
      "cell_type": "code",
      "source": [
        "# import required libraries\n",
        "import tensorflow as tf\n",
        "import tensorflow_hub as hub\n",
        "from tensorflow.keras import layers, models\n",
        "import matplotlib.pyplot as plt\n",
        "import numpy as np\n",
        "from tensorflow.keras.layers import Dense, GlobalAveragePooling2D\n"
      ],
      "metadata": {
        "collapsed": true,
        "id": "cbi81aJ7f_G0"
      },
      "execution_count": 14,
      "outputs": []
    },
    {
      "cell_type": "code",
      "source": [
        "# check gpu\n",
        "print(tf.sysconfig.get_build_info())\n",
        "print(\"Num GPUs Available: \", len(tf.config.list_physical_devices('GPU')))\n",
        "print(tf.config.experimental.list_logical_devices('GPU'))\n",
        "#cuda.select_device(0)\n",
        "#cuda.close()"
      ],
      "metadata": {
        "id": "P5g6OMS4Xu2k"
      },
      "execution_count": null,
      "outputs": []
    },
    {
      "cell_type": "code",
      "source": [
        "# path to train data and test data\n",
        "data_folder_path = \"data/initial_train/\"\n",
        "test_folder_path = \"data/initial_test/\"\n",
        "\n",
        "# path to train data and test data (augmented)\n",
        "augmented_train_folder_path = \"data/augmented_train/\"\n",
        "augmented_test_folder_path = \"data/augmented_test/\"\n"
      ],
      "metadata": {
        "id": "BK8WjCnUh84D"
      },
      "execution_count": 27,
      "outputs": []
    },
    {
      "cell_type": "code",
      "source": [
        "# train and test dataset\n",
        "dimension = 299\n",
        "batch_size=32\n",
        "train_dataset = tf.keras.preprocessing.image_dataset_from_directory(\n",
        "    data_folder_path,\n",
        "    image_size = (dimension,dimension),\n",
        "    batch_size = batch_size,\n",
        "    label_mode = 'categorical',\n",
        "    shuffle=True\n",
        "\n",
        ")\n",
        "\n",
        "test_dataset =  tf.keras.preprocessing.image_dataset_from_directory(\n",
        "    test_folder_path,\n",
        "    image_size = (dimension,dimension),\n",
        "    batch_size = batch_size,\n",
        "    label_mode = 'categorical',\n",
        "    shuffle=True\n",
        "\n",
        ")\n",
        "\n"
      ],
      "metadata": {
        "colab": {
          "base_uri": "https://localhost:8080/"
        },
        "id": "czSfZ8O_h2JK",
        "outputId": "32def333-4097-455a-9248-c2b81c4c8205"
      },
      "execution_count": 28,
      "outputs": [
        {
          "output_type": "stream",
          "name": "stdout",
          "text": [
            "Found 5724 files belonging to 4 classes.\n",
            "Found 633 files belonging to 4 classes.\n"
          ]
        }
      ]
    },
    {
      "cell_type": "code",
      "source": [
        "# create model unless load existing model\n",
        "def create_model():\n",
        "  # Define the CNN model\n",
        "  model = models.Sequential()\n",
        "\n",
        "  # First convolutional layer\n",
        "  model.add(layers.Conv2D(64, (3, 3), activation='relu', input_shape=(256, 256, 3), padding=\"same\" )  )\n",
        "  model.add(layers.BatchNormalization())\n",
        "  model.add(layers.MaxPooling2D((2, 2)))\n",
        "  model.add(layers.Dropout(0.25))\n",
        "\n",
        "  # Second convolutional layer\n",
        "  model.add(layers.Conv2D(128, (3, 3), activation='relu', padding=\"same\"))\n",
        "  model.add(layers.BatchNormalization())\n",
        "  model.add(layers.MaxPooling2D((2, 2)))\n",
        "  model.add(layers.Dropout(0.25))\n",
        "\n",
        "  # Third convolutional layer\n",
        "  model.add(layers.Conv2D(128, (3, 3), activation='relu',padding=\"same\"))\n",
        "  model.add(layers.BatchNormalization())\n",
        "\n",
        "\n",
        "  #model.add(layers.Conv2D(256, (3, 3), activation='relu', strides=2))\n",
        "  model.add(layers.Conv2D(256, (3, 3), activation='relu', strides=1))\n",
        "  model.add(layers.BatchNormalization())\n",
        "  model.add(layers.MaxPooling2D((2, 2)))\n",
        "  model.add(layers.Dropout(0.2))\n",
        "\n",
        "  model.add(layers.Conv2D(256, (3, 3), activation='relu', strides=1))\n",
        "  model.add(layers.MaxPooling2D((2, 2)))\n",
        "\n",
        "\n",
        "  model.add(layers.Conv2D(512, (3, 3), activation='relu', strides=1))\n",
        "  model.add(layers.BatchNormalization())\n",
        "  model.add(layers.MaxPooling2D((2, 2)))\n",
        "\n",
        "  model.add(layers.Conv2D(512, (3, 3), activation='relu', strides=1))\n",
        "  model.add(layers.BatchNormalization())\n",
        "  model.add(layers.MaxPooling2D((2, 2)))\n",
        "  model.add(layers.Dropout(0.15))\n",
        "\n",
        "  # Flatten the output and add fully connected layers\n",
        "  model.add(layers.Flatten())\n",
        "  model.add(layers.Dense(1024, activation='relu'))\n",
        "  model.add(layers.BatchNormalization())\n",
        "  model.add(layers.Dropout(0.5))\n",
        "  model.add(layers.Dense(512, activation='relu'))\n",
        "  model.add(layers.BatchNormalization())\n",
        "  model.add(layers.Dropout(0.5))\n",
        "  model.add(layers.Dense(128, activation='relu'))\n",
        "  model.add(layers.BatchNormalization())\n",
        "  model.add(layers.Dropout(0.3))\n",
        "  model.add(layers.Dense(4, activation='softmax'))\n",
        "\n",
        "  return model\n"
      ],
      "metadata": {
        "id": "Uqv4YmmkbVvY"
      },
      "execution_count": 33,
      "outputs": []
    },
    {
      "cell_type": "code",
      "source": [
        "# if using custom model\n",
        "#model = create_model()\n",
        "\n",
        "\n",
        "# if utilizing transfer learning\n",
        "\n",
        "# load the inception V3 data without the top layer\n",
        "model= tf.keras.applications.InceptionV3(include_top=False, input_shape=(299,299,3), weights= 'imagenet')\n",
        "\n",
        "# modify the model and freeze layers\n",
        "\n",
        "base_model=model\n",
        "\n",
        "for layer in base_model.layers:\n",
        "    layer.trainable = False\n",
        "\n",
        "base_model.layers[-1]=True\n",
        "\n",
        "num_classes=4\n",
        "x = base_model.output\n",
        "x = GlobalAveragePooling2D()(x)  # Add global average pooling layer\n",
        "x = Dense(256, activation='relu')(x)  # Add a dense layer\n",
        "predictions = Dense(num_classes, activation='softmax')(x)  # Final classification layer\n",
        "\n",
        "# Define the new model\n",
        "model = models.Model(inputs=base_model.input, outputs=predictions)"
      ],
      "metadata": {
        "collapsed": true,
        "id": "bpiUWNL5s9GB"
      },
      "execution_count": 21,
      "outputs": []
    },
    {
      "cell_type": "code",
      "source": [
        "# train the data\n",
        "\n",
        "optimizer = tf.keras.optimizers.Adam(learning_rate = 0.001)\n",
        "model.compile(optimizer=optimizer,\n",
        "              loss='categorical_crossentropy',\n",
        "              metrics=['accuracy'])\n",
        "\n",
        "# Train the model\n",
        "history = model.fit(train_dataset, validation_data= test_dataset, epochs=130)"
      ],
      "metadata": {
        "id": "-XTAjFwUaWR4"
      },
      "execution_count": null,
      "outputs": []
    },
    {
      "cell_type": "code",
      "source": [
        "# save the result\n",
        "\n",
        "file_name= 'initial'\n",
        "model99=model\n",
        "history_used=history\n",
        "\n",
        "# save the model\n",
        "model99.save(f'{file_name}.keras')\n"
      ],
      "metadata": {
        "id": "fywYS6qNnSBH"
      },
      "execution_count": null,
      "outputs": []
    },
    {
      "cell_type": "code",
      "source": [
        "# get the result\n",
        "train_history=[]\n",
        "test_history=[]\n",
        "\n",
        "for history_ in history_used:\n",
        "  for epoch in range(len(history_.history['loss'])):\n",
        "      train_history.append([history_.history['loss'][epoch],history_.history['accuracy'][epoch] ])\n",
        "      test_history.append([history_.history['val_loss'][epoch],history_.history['val_accuracy'][epoch] ])\n",
        "\n",
        "\n",
        "train_history = np.array(train_history)\n",
        "test_history = np.array(test_history)\n",
        "\n",
        "# save the acc and loss\n",
        "# save the result\n",
        "np.save(f'train_{file_name}.npy', train_history)\n",
        "np.save(f'test_{file_name}.npy', test_history)"
      ],
      "metadata": {
        "id": "XZUO2RjQh-Pj"
      },
      "execution_count": null,
      "outputs": []
    },
    {
      "cell_type": "code",
      "source": [
        "# plot the results - loss\n",
        "plt.plot(train_history[:,0])\n",
        "plt.plot(test_history[:,0])\n",
        "plt.title('Loss')\n",
        "plt.xlabel('Epoch')\n",
        "plt.ylabel('Loss')\n",
        "plt.legend(['Training Loss', 'Val Loss'])\n",
        "plt.show()"
      ],
      "metadata": {
        "colab": {
          "base_uri": "https://localhost:8080/",
          "height": 472
        },
        "id": "Ra6ljgxniG2z",
        "outputId": "4be44326-5560-443a-c3fc-b73813581003"
      },
      "execution_count": null,
      "outputs": [
        {
          "output_type": "display_data",
          "data": {
            "text/plain": [
              "<Figure size 640x480 with 1 Axes>"
            ],
            "image/png": "[encoded data removed]"
          },
          "metadata": {}
        }
      ]
    },
    {
      "cell_type": "code",
      "source": [
        "# plot the results - accuracy\n",
        "plt.plot(train_history[:,1])\n",
        "plt.plot(test_history[:,1])\n",
        "plt.title('Accuracy')\n",
        "plt.xlabel('Epoch')\n",
        "plt.ylabel('Accuracy')\n",
        "plt.legend(['Training Accuracy', 'Val Accuracy'])\n",
        "plt.show()"
      ],
      "metadata": {
        "colab": {
          "base_uri": "https://localhost:8080/",
          "height": 472
        },
        "id": "fXA7OamkiIPi",
        "outputId": "95118453-45a9-4332-b5d8-5f4bed9fe5e3"
      },
      "execution_count": null,
      "outputs": [
        {
          "output_type": "display_data",
          "data": {
            "text/plain": [
              "<Figure size 640x480 with 1 Axes>"
            ],
            "image/png": "[encoded data removed]"
          },
          "metadata": {}
        }
      ]
    }
  ]
}